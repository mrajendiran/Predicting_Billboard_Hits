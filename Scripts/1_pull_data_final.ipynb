{
 "cells": [
  {
   "cell_type": "code",
   "execution_count": 1,
   "metadata": {
    "collapsed": true
   },
   "outputs": [],
   "source": [
    "# Pull Billboard Charts and Details from 2000-2016"
   ]
  },
  {
   "cell_type": "code",
   "execution_count": 2,
   "metadata": {
    "collapsed": false
   },
   "outputs": [],
   "source": [
    "import billboard\n",
    "import pandas as pd\n",
    "import spotipy\n",
    "import spotipy.oauth2\n",
    "import more_itertools\n",
    "import time\n",
    "credentials = spotipy.oauth2.SpotifyClientCredentials('XXX', 'XXX')\n",
    "spotify = spotipy.Spotify(client_credentials_manager=credentials)"
   ]
  },
  {
   "cell_type": "code",
   "execution_count": null,
   "metadata": {
    "collapsed": false
   },
   "outputs": [],
   "source": [
    "import discogs_client\n",
    "import requests\n",
    "import json\n",
    "import collections\n",
    "\n",
    "import operator\n",
    "d = discogs_client.Client('ExampleApplication/0.1', user_token=\"XXX\")\n",
    "from tqdm import tqdm, tqdm_pandas\n",
    "tqdm.pandas(tqdm())\n",
    "\n",
    "import numpy as np\n",
    "\n",
    "import datetime\n",
    "import numpy as np\n",
    "import plotly.plotly as py\n",
    "import plotly.graph_objs as go\n",
    "from plotly.tools import FigureFactory as FF"
   ]
  },
  {
   "cell_type": "code",
   "execution_count": 5,
   "metadata": {
    "collapsed": false
   },
   "outputs": [],
   "source": [
    "# pull all charts from present thru \"first year\" starting\n",
    "# with current chart\n",
    "# outputs a dataframe of all charts ever\n",
    "def loop_through_charts(chart, first_year):\n",
    "    columns = ['chartDate', 'title', 'artist', 'peakPos', 'lastPos', 'weeks', 'rank', 'change', 'spotifyID', 'spotifyLink', 'videoLink']\n",
    "    all_charts  = pd.DataFrame(columns=columns)\n",
    "\n",
    "    while chart.previousDate[:4] != first_year:\n",
    "        chart = billboard.ChartData('hot-100', chart.previousDate)\n",
    "        for entry in chart.entries:\n",
    "            details = pd.Series([chart.date, entry.title,  entry.artist, entry.peakPos, entry.lastPos, entry.weeks, entry.rank,\n",
    "                                 entry.change, entry.spotifyID, entry.spotifyLink, entry.videoLink], index=columns)\n",
    "            all_charts = all_charts.append(details, ignore_index=True)\n",
    "    return(all_charts)"
   ]
  },
  {
   "cell_type": "code",
   "execution_count": 6,
   "metadata": {
    "collapsed": false
   },
   "outputs": [],
   "source": [
    "def get_artist_names(dataframe):\n",
    "    distinct_ids = list(dataframe['spotifyID'].unique())\n",
    "    distinct_ids = list(filter(None, distinct_ids)) \n",
    "    chunks = more_itertools.chunked(distinct_ids, 49)\n",
    "    \n",
    "    artist_names = pd.DataFrame(columns=['spotifyID', 'artist_list'])\n",
    "    for chunk in chunks:\n",
    "        for track in spotify.tracks(tracks = chunk)['tracks']:\n",
    "            artist_id = track['id']\n",
    "            all_names = []\n",
    "            for artists in track['artists']:\n",
    "                all_names.append(artists['name'])\n",
    "            artist_names = artist_names.append(pd.Series({'spotifyID': artist_id, 'artist_list': all_names}), ignore_index=True)\n",
    "    return(artist_names)"
   ]
  },
  {
   "cell_type": "code",
   "execution_count": 21,
   "metadata": {
    "collapsed": false
   },
   "outputs": [
    {
     "name": "stdout",
     "output_type": "stream",
     "text": [
      "Done retrieving:\n",
      " # Charts                   : 879 \n",
      " # Artists                  : 3094 \n",
      " # Tracks                   : 6636 \n",
      " # Tracks w/ Audio Features : 5817 \n",
      " Time Elapsed               : 2605.6148800849915  seconds\n",
      " ... Now onto the features ..\n",
      "Time Elapsed : 4.0531158447265625e-06  seconds\n",
      "All Done!\n"
     ]
    }
   ],
   "source": [
    "if __name__ == '__main__':\n",
    "    start_time = time.time()\n",
    "    all_charts = loop_through_charts(billboard.ChartData('hot-100'), '1999')\n",
    "    print('Done retrieving:\\n', \n",
    "          '# Charts                   :', all_charts['chartDate'].nunique(), '\\n',\n",
    "          '# Artists                  :', all_charts['artist'].nunique(), '\\n',\n",
    "          '# Tracks                   :', len(all_charts.groupby(['artist', 'title']).count()),'\\n',\n",
    "          '# Tracks w/ Audio Features :', all_charts['spotifyID'].nunique(), '\\n', \n",
    "          'Time Elapsed               :', time.time() - start_time, ' seconds\\n',\n",
    "          '... Now onto the features ..')\n",
    "    artist_names = get_artist_names(all_charts)\n",
    "    # join in artist names\n",
    "    all_charts = pd.merge(all_charts, artist_names, how='left', on=['spotifyID', 'spotifyID'])\n",
    "    # split artist names\n",
    "    all_charts = pd.concat([all_charts, all_charts.artist_list.apply(pd.Series).add_prefix('art_')], axis=1)\n",
    "    all_charts.to_csv('all_charts.csv')\n",
    "    start_time = time.time()\n",
    "    print('Time Elapsed :', time.time() - start_time, ' seconds\\nAll Done!')"
   ]
  },
  {
   "cell_type": "code",
   "execution_count": 299,
   "metadata": {
    "collapsed": false
   },
   "outputs": [],
   "source": [
    "all_charts = pd.read_csv('all_charts.csv', low_memory=False, index_col=0)\n",
    "# look at artist names that weren't split out\n",
    "#thefile = open('test.txt', 'w')\n",
    "#for item in list(all_charts[all_charts.art_0.isnull()]['artist'].unique()):\n",
    "#  thefile.write(\"%s\\n\" % item)"
   ]
  },
  {
   "cell_type": "code",
   "execution_count": 300,
   "metadata": {
    "collapsed": false
   },
   "outputs": [],
   "source": [
    "# check for artists that werent identified via. spotify artist lookup\n",
    "separators = [' Featuring ', ' & ', ', ', ' Vs. ', ' Wtih ', ' Duet With ', ' Introducing ', ' With ']\n",
    "exceptions = ['Prince And The Revolution', 'Alvin And The Chipmunks', 'Alvin And The Chipmunks Featuring Chris Classic']"
   ]
  },
  {
   "cell_type": "code",
   "execution_count": 301,
   "metadata": {
    "collapsed": false
   },
   "outputs": [],
   "source": [
    "# extract names to clean remove exceptions\n",
    "dirty_names = pd.DataFrame(all_charts[all_charts.art_0.isnull() & \n",
    "                                      -all_charts.artist.isin(exceptions)]['artist'].unique(), \n",
    "                          columns=['artist'])\n",
    "dirty_names['clean_names'] = dirty_names['artist']"
   ]
  },
  {
   "cell_type": "code",
   "execution_count": 302,
   "metadata": {
    "collapsed": false
   },
   "outputs": [],
   "source": [
    "# replace patterns from seperators list\n",
    "for pattern in separators:\n",
    "    dirty_names['clean_names'] = dirty_names['clean_names'].str.replace(pattern,'//')"
   ]
  },
  {
   "cell_type": "code",
   "execution_count": 303,
   "metadata": {
    "collapsed": false
   },
   "outputs": [],
   "source": [
    "# create name lookup\n",
    "dirty_names = dirty_names.join(dirty_names['clean_names']\n",
    "                               .apply(lambda x: pd.Series(x.split('//')))\n",
    "                               .add_prefix('art_')).drop('clean_names', 1)"
   ]
  },
  {
   "cell_type": "code",
   "execution_count": 304,
   "metadata": {
    "collapsed": false
   },
   "outputs": [],
   "source": [
    "all_charts_final = all_charts.merge(dirty_names, on='artist', how='left', suffixes=('', '_y'))\n",
    "for i in range(0,8):\n",
    "    all_charts_final['art_'+str(i)] = all_charts_final['art_'+str(i)+'_y'].fillna(all_charts_final['art_'+str(i)])\n",
    "    all_charts_final.drop('art_'+str(i)+'_y', inplace=True, axis=1)"
   ]
  },
  {
   "cell_type": "code",
   "execution_count": 306,
   "metadata": {
    "collapsed": false
   },
   "outputs": [
    {
     "data": {
      "text/plain": [
       "['Prince And The Revolution',\n",
       " 'Alvin And The Chipmunks Featuring Chris Classic',\n",
       " 'Alvin And The Chipmunks']"
      ]
     },
     "execution_count": 306,
     "metadata": {},
     "output_type": "execute_result"
    }
   ],
   "source": [
    "list(all_charts_final[all_charts_final.art_0.isnull()]['artist'].unique())"
   ]
  },
  {
   "cell_type": "code",
   "execution_count": 307,
   "metadata": {
    "collapsed": false
   },
   "outputs": [],
   "source": [
    "# list of boilerplate names to ignore\n",
    "plate_names = [\"Unknown Artist\",\"Various\", \"Traditional\", \"Folk\", \"Anonymous\"]"
   ]
  },
  {
   "cell_type": "code",
   "execution_count": 338,
   "metadata": {
    "collapsed": true
   },
   "outputs": [],
   "source": [
    "# this method searches for all versions associated with a master release and pulls the distinct\n",
    "# \"credits\" and then extracts \"extraartist\" fields from the api's release page\n",
    "# the latter should match credits but have additional role info and is (apparently?) not in the api\n",
    "def ghostbuster(row):\n",
    "    ghosts = []; roles = []; names = []\n",
    "    headers = {'accept-encoding': 'gzip, deflate', 'user-agent': 'cde456'} \n",
    "    params = {} \n",
    "    search = d.search(artist=row['art_0'], title=row['title'], type='master')\n",
    "    for release in search:\n",
    "        for version in release.versions:\n",
    "            names+=[art.real_name for art in version.artists if art.name not in plate_names and art.real_name!=None]\n",
    "            variations=[art.name_variations for art in version.artists if art.name not in plate_names and art.name_variations!=None]\n",
    "            if len(variations)>0:\n",
    "                names+=variations[0]\n",
    "            for credit in version.credits:\n",
    "                ghosts.append(credit.name)\n",
    "            json_data = json.loads(requests.get('https://api.discogs.com/releases/'+str(version.id), params=params,headers=headers).text)\n",
    "            roles.extend([(extra['name'], extra['role']) for extra in json_data['extraartists']])\n",
    "    return pd.Series({'ghosts': list(set(ghosts)), 'roles': list(set(roles)), 'other_names': list(set(names))})"
   ]
  },
  {
   "cell_type": "code",
   "execution_count": 339,
   "metadata": {
    "collapsed": true
   },
   "outputs": [],
   "source": [
    "# this method performs a broader search where the first method fails (takes a bit longer and has some mis-hits)\n",
    "# some searches like r. kelly - fiesta and bieber's one dance did not return results either due to \n",
    "# not having a master identifed or other search limitations of the API - use the \"q\" method instead of artist\n",
    "def ghostbuster2(row):\n",
    "    ghosts = []\n",
    "    roles = []\n",
    "    names = []\n",
    "    headers = {'accept-encoding': 'gzip, deflate', 'user-agent': 'cde456'} \n",
    "    params = {} \n",
    "    search = d.search(q=row['art_0'], title=row['title'], type='release')\n",
    "    for release in search:\n",
    "        names+=[art.real_name for art in release.artists if art.name not in plate_names and art.real_name!=None]\n",
    "        variations=[art.name_variations for art in release.artists if art.name not in plate_names and art.name_variations!=None]\n",
    "        if len(variations)>0:\n",
    "            names+=variations[0]\n",
    "        for credit in release.credits:\n",
    "            ghosts.append(credit.name)\n",
    "        json_data = json.loads(requests.get('https://api.discogs.com/releases/'+str(release.id), params=params,headers=headers).text)\n",
    "        roles.extend([(extra['name'], extra['role']) for extra in json_data['extraartists']])\n",
    "    return pd.Series({'ghosts': list(set(ghosts)), 'roles': list(set(roles)), 'other_names': list(set(names))})"
   ]
  },
  {
   "cell_type": "code",
   "execution_count": 348,
   "metadata": {
    "collapsed": false
   },
   "outputs": [],
   "source": [
    "# extract artists and songs\n",
    "bb = all_charts_final[all_charts_final['peakPos'] <11][['artist', 'title', 'art_0']].drop_duplicates()"
   ]
  },
  {
   "cell_type": "code",
   "execution_count": null,
   "metadata": {
    "collapsed": false
   },
   "outputs": [],
   "source": [
    "bb[['ghosts', 'other_names', 'roles']] = bb.progress_apply(lambda row: ghostbuster2(row),axis=1)"
   ]
  }
 ],
 "metadata": {
  "kernelspec": {
   "display_name": "Python 3",
   "language": "python",
   "name": "python3"
  },
  "language_info": {
   "codemirror_mode": {
    "name": "ipython",
    "version": 3
   },
   "file_extension": ".py",
   "mimetype": "text/x-python",
   "name": "python",
   "nbconvert_exporter": "python",
   "pygments_lexer": "ipython3",
   "version": "3.5.2"
  },
  "widgets": {
   "state": {},
   "version": "1.1.2"
  }
 },
 "nbformat": 4,
 "nbformat_minor": 0
}
